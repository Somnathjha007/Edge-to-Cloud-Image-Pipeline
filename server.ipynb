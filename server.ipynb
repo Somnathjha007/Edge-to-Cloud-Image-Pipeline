{
 "cells": [
  {
   "cell_type": "code",
   "execution_count": null,
   "id": "e8303e0e-c542-4b89-9463-5809c6cca3f2",
   "metadata": {},
   "outputs": [
    {
     "name": "stdout",
     "output_type": "stream",
     "text": [
      " * Serving Flask app '__main__'\n",
      " * Debug mode: off\n"
     ]
    },
    {
     "name": "stderr",
     "output_type": "stream",
     "text": [
      "WARNING: This is a development server. Do not use it in a production deployment. Use a production WSGI server instead.\n",
      " * Running on all addresses (0.0.0.0)\n",
      " * Running on http://127.0.0.1:5000\n",
      " * Running on http://192.168.1.100:5000\n",
      "Press CTRL+C to quit\n"
     ]
    }
   ],
   "source": [
    "from flask import Flask, request, jsonify\n",
    "import os\n",
    "import datetime\n",
    "\n",
    "app = Flask(__name__)\n",
    "\n",
    "# Define the folder where images will be saved\n",
    "IMAGE_FOLDER = \"img\"\n",
    "\n",
    "# Ensure the folder exists\n",
    "if not os.path.exists(IMAGE_FOLDER):\n",
    "    os.makedirs(IMAGE_FOLDER)\n",
    "\n",
    "@app.route('/upload', methods=['POST'])\n",
    "@app.route('/img', methods=['POST'])  # Added '/img' route\n",
    "def upload_image():\n",
    "    \"\"\"Endpoint to receive images from ESP32-S3 and save them.\"\"\"\n",
    "    if request.data:  # Image sent as raw binary\n",
    "        # Generate a timestamped filename\n",
    "        filename = f\"captured_{datetime.datetime.now().strftime('%Y%m%d_%H%M%S')}.jpg\"\n",
    "        file_path = os.path.join(IMAGE_FOLDER, filename)\n",
    "\n",
    "        # Save the image\n",
    "        with open(file_path, \"wb\") as f:\n",
    "            f.write(request.data)\n",
    "\n",
    "        return jsonify({\"status\": \"success\", \"filename\": filename, \"path\": file_path}), 200\n",
    "\n",
    "    return jsonify({\"status\": \"error\", \"message\": \"No image received\"}), 400\n",
    "\n",
    "@app.route('/list_images', methods=['GET'])\n",
    "def list_images():\n",
    "    \"\"\"Endpoint to list all saved images.\"\"\"\n",
    "    images = os.listdir(IMAGE_FOLDER)\n",
    "    return jsonify({\"images\": images}), 200\n",
    "\n",
    "@app.route('/')\n",
    "def home():\n",
    "    \"\"\"Homepage to indicate the server is running.\"\"\"\n",
    "    return \"ESP32-S3 Flask Image Server is running!\", 200\n",
    "\n",
    "if __name__ == '__main__':\n",
    "    app.run(host='0.0.0.0', port=5000)\n"
   ]
  },
  {
   "cell_type": "code",
   "execution_count": null,
   "id": "0d8e1736-d227-4917-be07-5c76ba1a7794",
   "metadata": {},
   "outputs": [
    {
     "name": "stdout",
     "output_type": "stream",
     "text": [
      "🚀 Flask server is starting...\n",
      " * Serving Flask app '__main__'\n",
      " * Debug mode: off\n"
     ]
    },
    {
     "name": "stderr",
     "output_type": "stream",
     "text": [
      "WARNING: This is a development server. Do not use it in a production deployment. Use a production WSGI server instead.\n",
      " * Running on all addresses (0.0.0.0)\n",
      " * Running on http://127.0.0.1:5000\n",
      " * Running on http://192.168.1.100:5000\n",
      "Press CTRL+C to quit\n"
     ]
    }
   ],
   "source": [
    "from flask import Flask, request, jsonify\n",
    "import os\n",
    "import datetime\n",
    "\n",
    "app = Flask(__name__)\n",
    "\n",
    "# Define the folder where images will be saved\n",
    "IMAGE_FOLDER = \"img\"\n",
    "\n",
    "def ensure_folder_exists(folder):\n",
    "    if not os.path.exists(folder):\n",
    "        os.makedirs(folder)\n",
    "\n",
    "ensure_folder_exists(IMAGE_FOLDER)\n",
    "\n",
    "# Store the latest command received\n",
    "latest_command = \"S\"  # Default to stop\n",
    "\n",
    "@app.route('/upload', methods=['POST'])\n",
    "def upload_image():\n",
    "    \"\"\"Endpoint to receive images from ESP32-S3 and save them.\"\"\"\n",
    "    if request.data:  # Image sent as raw binary\n",
    "        filename = f\"captured_{datetime.datetime.now().strftime('%Y%m%d_%H%M%S')}.jpg\"\n",
    "        file_path = os.path.join(IMAGE_FOLDER, filename)\n",
    "\n",
    "        with open(file_path, \"wb\") as f:\n",
    "            f.write(request.data)\n",
    "\n",
    "        print(f\"✅ Image saved: {file_path}\")\n",
    "        return jsonify({\"status\": \"success\", \"filename\": filename, \"path\": file_path}), 200\n",
    "    \n",
    "    return jsonify({\"status\": \"error\", \"message\": \"No image received\"}), 400\n",
    "\n",
    "@app.route('/list_images', methods=['GET'])\n",
    "def list_images():\n",
    "    \"\"\"Endpoint to list all saved images.\"\"\"\n",
    "    images = os.listdir(IMAGE_FOLDER)\n",
    "    return jsonify({\"images\": images}), 200\n",
    "\n",
    "# ✅ API to set motor control command\n",
    "@app.route('/set_command', methods=['POST'])\n",
    "def set_command():\n",
    "    global current_command\n",
    "    data = request.get_json()\n",
    "\n",
    "    if not data or \"command\" not in data:\n",
    "        return jsonify({\"error\": \"Missing command\"}), 400\n",
    "\n",
    "    command = data[\"command\"].upper()\n",
    "\n",
    "    if command not in [\"F\", \"B\", \"S\", \"R\", \"L\"]:\n",
    "        return jsonify({\"error\": \"Invalid command\"}), 400\n",
    "\n",
    "    current_command = command  # ✅ Store the latest command\n",
    "    print(f\"✅ Motor Command updated: {current_command}\")\n",
    "\n",
    "    return jsonify({\"message\": f\"Motor Command set to {current_command}\"}), 200\n",
    "\n",
    "# ✅ API for ESP32 to fetch the latest motor control command\n",
    "@app.route('/get_command', methods=['GET'])\n",
    "def get_command():\n",
    "    return jsonify({\"command\": current_command}), 200\n",
    "@app.route('/')\n",
    "def home():\n",
    "    \"\"\"Homepage to indicate the server is running.\"\"\"\n",
    "    return jsonify({\"status\": \"running\", \"message\": \"ESP32-S3 Flask Image & Motor Server is live!\"}), 200\n",
    "\n",
    "if __name__ == '__main__':\n",
    "    print(\"🚀 Flask server is starting...\")\n",
    "    app.run(host='0.0.0.0', port=5000)\n"
   ]
  },
  {
   "cell_type": "code",
   "execution_count": null,
   "id": "0e2ad4bc-2298-4cce-90cf-ac469e2e9bd0",
   "metadata": {},
   "outputs": [],
   "source": []
  }
 ],
 "metadata": {
  "kernelspec": {
   "display_name": "Python 3 (ipykernel)",
   "language": "python",
   "name": "python3"
  },
  "language_info": {
   "codemirror_mode": {
    "name": "ipython",
    "version": 3
   },
   "file_extension": ".py",
   "mimetype": "text/x-python",
   "name": "python",
   "nbconvert_exporter": "python",
   "pygments_lexer": "ipython3",
   "version": "3.12.9"
  }
 },
 "nbformat": 4,
 "nbformat_minor": 5
}
